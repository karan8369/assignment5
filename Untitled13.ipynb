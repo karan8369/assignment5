{
 "cells": [
  {
   "cell_type": "code",
   "execution_count": 1,
   "id": "05306b00",
   "metadata": {},
   "outputs": [
    {
     "name": "stdout",
     "output_type": "stream",
     "text": [
      "35\n"
     ]
    }
   ],
   "source": [
    "class Point:\n",
    "    def __init__(self,x,y,z):\n",
    "        self.x = x\n",
    "        self.y = y\n",
    "        self.z = z\n",
    "    def sqsum(self):\n",
    "        return self.x**2+self.y**2+self.z**2\n",
    "x = 1\n",
    "y = 3\n",
    "z = 5\n",
    "point = Point(x,y,z)\n",
    "result = point.sqsum()\n",
    "print(result)\n",
    "    "
   ]
  },
  {
   "cell_type": "code",
   "execution_count": 2,
   "id": "b336034b",
   "metadata": {},
   "outputs": [
    {
     "name": "stdout",
     "output_type": "stream",
     "text": [
      "Addition:  104\n",
      "Subtraction:  84\n",
      "multiplication:  940\n",
      "Divition:  9.4\n"
     ]
    }
   ],
   "source": [
    "class Calculator:\n",
    "    def __init__(self,num1,num2):\n",
    "        self.num1 = num1\n",
    "        self.num2 = num2\n",
    "    def add(self):\n",
    "        return self.num1 + self.num2\n",
    "    def subtract(self):\n",
    "        return self.num2 - self.num1\n",
    "    def multiply(self):\n",
    "        return self.num1 * self.num2\n",
    "    def divide(self):\n",
    "        if self.num1 == 0:\n",
    "            return \"Division by zero is not allowed.\"\n",
    "        return self.num2 / self.num1\n",
    "obj = Calculator(10,94)\n",
    "print(\"Addition: \", obj.add())\n",
    "print(\"Subtraction: \", obj.subtract())\n",
    "print(\"multiplication: \", obj.multiply())\n",
    "print(\"Divition: \", obj.divide())"
   ]
  },
  {
   "cell_type": "code",
   "execution_count": 3,
   "id": "b9a40f71",
   "metadata": {},
   "outputs": [
    {
     "name": "stdout",
     "output_type": "stream",
     "text": [
      "Name:  John\n",
      "RollNumber:  12345\n"
     ]
    }
   ],
   "source": [
    "class Student:\n",
    "    def __init__(self):\n",
    "        self._name = None\n",
    "        self._rollNumber = None\n",
    "    def setName(self,name):\n",
    "        self._name = name\n",
    "    def getName(self):\n",
    "        return self._name\n",
    "    def setRollNumber(self,rollNumber):\n",
    "        self._rollNumber = rollNumber\n",
    "    def getRollNumber(self):\n",
    "        return self._rollNumber\n",
    "student = Student()\n",
    "student.setName(\"John\")\n",
    "student.setRollNumber(12345)\n",
    "print(\"Name: \", student.getName())\n",
    "print(\"RollNumber: \", student.getRollNumber())"
   ]
  },
  {
   "cell_type": "code",
   "execution_count": 12,
   "id": "54916f58",
   "metadata": {},
   "outputs": [
    {
     "name": "stdout",
     "output_type": "stream",
     "text": [
      "Account Information: \n",
      "Title:  Ashish\n",
      "Balance:  5000\n",
      "\n",
      "Saving Account Information: \n",
      "Title:  Ashish\n",
      "Blance:  5000\n",
      "Interest Rate:  5\n"
     ]
    }
   ],
   "source": [
    "class Account():\n",
    "    def __init__(self,title=None,balance=0):\n",
    "        self.title  = title \n",
    "        self.balance = balance\n",
    "class SavingAccount(Account):\n",
    "    def __init__(self,title=None,balance=0,interestRate=0):\n",
    "        super().__init__(title,balance)\n",
    "        self.interestRate = interestRate\n",
    "account_instance = Account(\"Ashish\",5000)\n",
    "saving_account_instance = SavingAccount(\"Ashish\",5000,5)\n",
    "print(\"Account Information: \")\n",
    "print(\"Title: \",account_instance.title)\n",
    "print(\"Balance: \",account_instance.balance)\n",
    "print(\"\\nSaving Account Information: \")\n",
    "print(\"Title: \",saving_account_instance.title)\n",
    "print(\"Blance: \",saving_account_instance.balance)\n",
    "print(\"Interest Rate: \",saving_account_instance.interestRate)\n",
    "    "
   ]
  },
  {
   "cell_type": "code",
   "execution_count": 9,
   "id": "52d3f217",
   "metadata": {},
   "outputs": [
    {
     "name": "stdout",
     "output_type": "stream",
     "text": [
      "2500\n",
      "2000\n",
      "100.0\n"
     ]
    }
   ],
   "source": [
    "class Account:\n",
    "    def __init__(self, title=None, balance=0):\n",
    "        self.title = title\n",
    "        self.balance = balance\n",
    "    def withdrawal(self, amount):\n",
    "        self.balance -= amount\n",
    "    def deposit(self, amount):\n",
    "        self.balance += amount\n",
    "    def getBalance(self):\n",
    "        return self.balance\n",
    "class SavingAccount(Account):\n",
    "    def __init__(self, title=None, balance=0, interestRate=0):\n",
    "        super().__init__(title,balance)\n",
    "        self.interestRate = interestRate\n",
    "    def interestAmount(self):\n",
    "        return self.balance*(self.interestRate/100)\n",
    "demo1 = SavingAccount(\"Ashish\",2000,5)\n",
    "demo1.deposit(500)\n",
    "print(demo1.getBalance())\n",
    "demo1.withdrawal(500)\n",
    "print(demo1.getBalance())\n",
    "print(demo1.interestAmount())\n",
    "    "
   ]
  },
  {
   "cell_type": "code",
   "execution_count": null,
   "id": "7551d121",
   "metadata": {},
   "outputs": [],
   "source": []
  }
 ],
 "metadata": {
  "kernelspec": {
   "display_name": "Python 3 (ipykernel)",
   "language": "python",
   "name": "python3"
  },
  "language_info": {
   "codemirror_mode": {
    "name": "ipython",
    "version": 3
   },
   "file_extension": ".py",
   "mimetype": "text/x-python",
   "name": "python",
   "nbconvert_exporter": "python",
   "pygments_lexer": "ipython3",
   "version": "3.10.9"
  }
 },
 "nbformat": 4,
 "nbformat_minor": 5
}
